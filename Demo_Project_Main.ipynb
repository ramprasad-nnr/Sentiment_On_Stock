{
  "nbformat": 4,
  "nbformat_minor": 0,
  "metadata": {
    "colab": {
      "name": "Demo Project_Main.ipynb",
      "provenance": [],
      "collapsed_sections": [],
      "include_colab_link": true
    },
    "kernelspec": {
      "name": "python3",
      "display_name": "Python 3"
    },
    "language_info": {
      "name": "python"
    }
  },
  "cells": [
    {
      "cell_type": "markdown",
      "metadata": {
        "id": "view-in-github",
        "colab_type": "text"
      },
      "source": [
        "<a href=\"https://colab.research.google.com/github/ramprasad-nnr/Sentiment_On_Stock/blob/main/Demo_Project_Main.ipynb\" target=\"_parent\"><img src=\"https://colab.research.google.com/assets/colab-badge.svg\" alt=\"Open In Colab\"/></a>"
      ]
    },
    {
      "cell_type": "markdown",
      "metadata": {
        "id": "vT73LYJU2Tup"
      },
      "source": [
        "##Demo Project Main file DA-232 Project \n",
        "\n",
        "**Project Details:**\n",
        "**Decoding the Sentiment driven Stock market**\n",
        "\n",
        "\n",
        "*abhishekk2, animeshs, sharpreet, ramprasadnnr @iisc.ac.in* \n",
        "\n",
        "---\n",
        "\n",
        "**Description**\n",
        "Analyse the stock market data, the financial news headlines over\n",
        "a period of time in an attempt to identify stocks that generally tend to peak or dip together.\n",
        "\n",
        "Another objective of the project is to identify stocks that are more sensitive to the financial\n",
        "news sentiment, and show more volatility based on the news sentiment."
      ]
    },
    {
      "cell_type": "markdown",
      "source": [
        "# Basic Setup"
      ],
      "metadata": {
        "id": "fGePtyDevkU_"
      }
    },
    {
      "cell_type": "markdown",
      "metadata": {
        "id": "5xJzGE6ColnD"
      },
      "source": [
        "**Environment Setup**"
      ]
    },
    {
      "cell_type": "code",
      "metadata": {
        "colab": {
          "base_uri": "https://localhost:8080/"
        },
        "id": "jxRDfnI43Ncz",
        "outputId": "b0454ec5-0a63-4272-ffae-504f2a3a3be2"
      },
      "source": [
        "#Step 1: Tool Chain Installation\n",
        "from google.colab import drive\n",
        "drive.mount('/content/drive')\n",
        "!apt-get install openjdk-8-jdk-headless -qq > /dev/null\n",
        "#Add Check for .tgz file present\n",
        "!wget -q https://mirrors.estointernet.in/apache/spark/spark-3.0.3/spark-3.0.3-bin-hadoop2.7.tgz\n",
        "!tar xf /content/spark-3.0.3-bin-hadoop2.7.tgz\n",
        "!pip install -q findspark\n",
        "!pip install -q wordcloud\n",
        "\n",
        "import os\n",
        "os.environ[\"JAVA_HOME\"] = \"/usr/lib/jvm/java-8-openjdk-amd64\"\n",
        "os.environ[\"SPARK_HOME\"] = \"/content/spark-3.0.3-bin-hadoop2.7\""
      ],
      "execution_count": 1,
      "outputs": [
        {
          "output_type": "stream",
          "name": "stdout",
          "text": [
            "Mounted at /content/drive\n"
          ]
        }
      ]
    },
    {
      "cell_type": "code",
      "metadata": {
        "id": "J9kp7ZRi4OaS",
        "colab": {
          "base_uri": "https://localhost:8080/"
        },
        "outputId": "f7d57e5e-a63f-4eb4-88f7-9935539d1670"
      },
      "source": [
        "#Step 2: Imports\n",
        "\n",
        "#Spark\n",
        "import findspark\n",
        "findspark.init()\n",
        "findspark.find()\n",
        "from pyspark.sql.types import *\n",
        "from pyspark.sql.functions import col\n",
        "import pyspark.sql.functions as F\n",
        "from pyspark.sql import SparkSession\n",
        "from pyspark.sql.window import Window\n",
        "from pyspark.sql.functions import udf\n",
        "from pyspark.sql.types import StringType\n",
        "from pyspark.sql.types import *\n",
        "from pyspark.sql.functions import col\n",
        "import pyspark.sql.functions as F\n",
        "from pyspark.sql.functions import to_timestamp\n",
        "from pyspark.sql.functions import dayofweek\n",
        "from pyspark.sql.functions  import year\n",
        "from pyspark.sql.functions  import month\n",
        "from pyspark.sql.functions import to_date\n",
        "\n",
        "#nltk\n",
        "import wordcloud\n",
        "import nltk\n",
        "nltk.download('vader_lexicon')\n",
        "from nltk.sentiment.vader import SentimentIntensityAnalyzer\n",
        "\n",
        "#Generic Imports\n",
        "import matplotlib.pyplot as plt\n",
        "import pandas as pd\n",
        "from datetime import datetime\n"
      ],
      "execution_count": 2,
      "outputs": [
        {
          "output_type": "stream",
          "name": "stdout",
          "text": [
            "[nltk_data] Downloading package vader_lexicon to /root/nltk_data...\n"
          ]
        },
        {
          "output_type": "stream",
          "name": "stderr",
          "text": [
            "/usr/local/lib/python3.7/dist-packages/nltk/twitter/__init__.py:20: UserWarning: The twython library has not been installed. Some functionality from the twitter package will not be available.\n",
            "  warnings.warn(\"The twython library has not been installed. \"\n"
          ]
        }
      ]
    },
    {
      "cell_type": "code",
      "metadata": {
        "colab": {
          "base_uri": "https://localhost:8080/"
        },
        "id": "IKCgBUUZ4xtE",
        "outputId": "d1d58ab1-5670-46b3-c010-9817b51039ed"
      },
      "source": [
        "#Step 3: Creating Enviroment \n",
        "\n",
        "#PySpark\n",
        "spark = SparkSession.builder\\\n",
        "         .master(\"local\")\\\n",
        "         .appName(\"Colab\")\\\n",
        "         .config('spark.ui.port', '4050')\\\n",
        "         .config('spark.sql.broadcastTimeout', '36000')\\\n",
        "         .getOrCreate()\n",
        "##https://databricks.com/session_na20/on-improving-broadcast-joins-in-apache-spark-sql\n",
        "##https://spark.apache.org/docs/latest/sql-performance-tuning.html\n",
        "\n",
        "\n",
        "#nltk\n",
        "nltk.download('stopwords')\n",
        "nltk.download('wordnet')\n",
        "nltk.download('punkt')\n",
        "nltk.download('averaged_perceptron_tagger') \n"
      ],
      "execution_count": 3,
      "outputs": [
        {
          "output_type": "stream",
          "name": "stdout",
          "text": [
            "[nltk_data] Downloading package stopwords to /root/nltk_data...\n",
            "[nltk_data]   Unzipping corpora/stopwords.zip.\n",
            "[nltk_data] Downloading package wordnet to /root/nltk_data...\n",
            "[nltk_data]   Unzipping corpora/wordnet.zip.\n",
            "[nltk_data] Downloading package punkt to /root/nltk_data...\n",
            "[nltk_data]   Unzipping tokenizers/punkt.zip.\n",
            "[nltk_data] Downloading package averaged_perceptron_tagger to\n",
            "[nltk_data]     /root/nltk_data...\n",
            "[nltk_data]   Unzipping taggers/averaged_perceptron_tagger.zip.\n"
          ]
        },
        {
          "output_type": "execute_result",
          "data": {
            "text/plain": [
              "True"
            ]
          },
          "metadata": {},
          "execution_count": 3
        }
      ]
    },
    {
      "cell_type": "markdown",
      "source": [
        "# Core & Utility Functionalities"
      ],
      "metadata": {
        "id": "R9yz3x95vxSj"
      }
    },
    {
      "cell_type": "code",
      "metadata": {
        "id": "kEXaRDVq32Sc"
      },
      "source": [
        "#Global Paramaters\n",
        "\n",
        "#DataSets\n",
        "stock_dataset_path = \"/content/drive/MyDrive/DA_232_Project/DataSet/Stock/*.csv\"\n",
        "news_dataset_path = \"/content/drive/Shareddrives/DE-Sem1-Project/data/IndianFinancialNews.csv\"\n",
        "\n",
        "#Time Lines\n",
        "time_frame = 2022\n",
        "\n",
        "#Window Sizes in days\n",
        "window_size = [3, 7, 15, 30]\n",
        "\n",
        "#Removing Variations of Stocks\n",
        "valid_p_delta_range = 75\n",
        "\n",
        "#HyperParameter - Weight for Title vs Description\n",
        "w_title = 1"
      ],
      "execution_count": 4,
      "outputs": []
    },
    {
      "cell_type": "code",
      "metadata": {
        "id": "mLtB3S_X390R"
      },
      "source": [
        "#Generic/Utility Functions"
      ],
      "execution_count": 5,
      "outputs": []
    },
    {
      "cell_type": "code",
      "metadata": {
        "id": "ffB_tSAS3xhW",
        "colab": {
          "base_uri": "https://localhost:8080/"
        },
        "outputId": "9a4c339e-193f-4597-ea0c-2eb1c02f4179"
      },
      "source": [
        "#Core Functions\n",
        "\n",
        "#load_and_clean_stock_data:\n",
        "#\n",
        "#Arg: Dataset Path\n",
        "#Ret: Stock DataSet\n",
        "def load_and_clean_stock_data(path):\n",
        "  df = spark.read.option(\"header\",True).option(\"inferSchema\",True).csv(path).dropDuplicates()\n",
        "  df = df.withColumn(\"Date\", col('Date').cast(\"timestamp\"))\n",
        "  print(\"Stock DateSet \", df.count())\n",
        "  #df.show(5)\n",
        "  return df\n",
        "\n",
        "def load_and_clean_news_data(path):\n",
        "  df = spark.read.option(\"header\",True).option(\"inferSchema\",True).csv(path)\n",
        "  print(\"News DateSet \", df.count())\n",
        "  \n",
        "  #df.show(5)\n",
        "  return df\n",
        "\n",
        "exec_time = \"\"\n",
        "#find_exec_time:\n",
        "#\n",
        "#Arg: Spark Df\n",
        "#Ret: Stock DataSet\n",
        "def find_exec_time(begin):\n",
        "  global exec_time\n",
        "  if begin:\n",
        "    exec_time = datetime.now()\n",
        "  else:\n",
        "    print(\"Execution Time .....\",(datetime.now() - exec_time).total_seconds()*1000,\"msec\")\n",
        "    exec_time = \"\"\n",
        "\n",
        "#CFIDF Algo ?\n",
        "#Stop Words/Stem Words\n",
        "def news_sentiment(news):\n",
        "  sid = SentimentIntensityAnalyzer()\n",
        "  score = sid.polarity_scores(news)['compound']\n",
        "  if news:\n",
        "    score = sid.polarity_scores(news)['compound']\n",
        "    return score\n",
        "  else:\n",
        "    return 0  \n",
        "\n",
        "spark.udf.register(\"NewsSentiments\", news_sentiment)\n",
        "\n",
        "def news_format_date(news_date):\n",
        "    month_map = {\n",
        "    \"January\":\"01\",\n",
        "    \"February\":\"02\",\n",
        "    \"March\":\"03\",\n",
        "    \"April\":\"04\",\n",
        "    \"May\":\"05\",\n",
        "    \"June\":\"06\",\n",
        "    \"July\":\"07\",\n",
        "    \"August\":\"08\",\n",
        "    \"September\":\"09\",\n",
        "    \"October\":\"10\",\n",
        "    \"November\":\"11\",\n",
        "    \"December\":\"12\"\n",
        "    }\n",
        "    #return \"1970-01-01\"\n",
        "    if news_date:\n",
        "      day = news_date.split(\",\")[0].split()\n",
        "      date = day[1].strip()\n",
        "      month = month_map[day[0].strip()]\n",
        "      year = news_date.split(\",\")[1].strip()\n",
        "\n",
        "      date_full = year+\"-\"+month+\"-\"+date\n",
        "\n",
        "      return date_full\n",
        "\n",
        "    return \"1970-01-01\"\n",
        "\n",
        "\n",
        "spark.udf.register(\"NewsFormatDate\", news_format_date)\n"
      ],
      "execution_count": 6,
      "outputs": [
        {
          "output_type": "execute_result",
          "data": {
            "text/plain": [
              "<function __main__.news_format_date>"
            ]
          },
          "metadata": {},
          "execution_count": 6
        }
      ]
    },
    {
      "cell_type": "markdown",
      "metadata": {
        "id": "gFtlLY5wUFGE"
      },
      "source": [
        "\n",
        "print(delta_stock_df.filter((col(\"P_Delta\") > 80) | (col(\"P_Delta\") < -80)).count())\n",
        "\n",
        " +-----------------+------------------+\n",
        " |     max(P_Delta)|      min(P_Delta)|\n",
        " +-----------------+------------------+\n",
        " |62.68776737752903|-70.52554208011759|\n",
        " +-----------------+------------------+"
      ]
    },
    {
      "cell_type": "markdown",
      "source": [
        "# Core Logic - Data Manupulation"
      ],
      "metadata": {
        "id": "rs2rrhWIvtN2"
      }
    },
    {
      "cell_type": "code",
      "metadata": {
        "id": "GldZOio_4n3-",
        "colab": {
          "base_uri": "https://localhost:8080/"
        },
        "outputId": "1613750f-b3e4-4064-ad92-59b3a3aca90e"
      },
      "source": [
        "#Main Loading of Data \n",
        "find_exec_time(begin=True)\n",
        "stock_df = load_and_clean_stock_data(stock_dataset_path)\n",
        "find_exec_time(begin=False)\n",
        "find_exec_time(begin=True)\n",
        "news_df = load_and_clean_news_data(news_dataset_path)\n",
        "find_exec_time(begin=False)\n",
        "stock_df = stock_df.filter(F.year(col(\"Date\")) <= time_frame)\n",
        "print(\"Stock Data After Filter\", stock_df.count())\n"
      ],
      "execution_count": 7,
      "outputs": [
        {
          "output_type": "stream",
          "name": "stdout",
          "text": [
            "Stock DateSet  279906\n",
            "Execution Time ..... 40641.603 msec\n",
            "News DateSet  50000\n",
            "Execution Time ..... 2038.5900000000001 msec\n",
            "Stock Data After Filter 273331\n"
          ]
        }
      ]
    },
    {
      "cell_type": "code",
      "metadata": {
        "colab": {
          "base_uri": "https://localhost:8080/"
        },
        "id": "3Ae-lLerDN0t",
        "outputId": "cae6e73a-0cf7-4a45-886b-8fc3e0a48a3a"
      },
      "source": [
        "#### NEWS DATA MANIPULATION\n",
        "find_exec_time(begin=True)\n",
        "\n",
        "news_udf = udf(news_sentiment, DoubleType())\n",
        "fn = news_df.select(\"*\", news_udf(\"Title\").alias('Title_Sent'))\n",
        "fn = fn.groupby('Date').avg('Title_Sent').withColumnRenamed('avg(Title_Sent)','News_Sentiment')\n",
        "\n",
        "news_date_udf = udf(news_format_date, StringType())\n",
        "\n",
        "fn = fn.select(\"*\", news_date_udf(\"Date\").alias('DateNews')).withColumn(\"DateNews\", col('DateNews').cast(\"timestamp\")).drop(\"Date\")\n",
        "\n",
        "#print(fn.rdd.filter(lambda x: (str(x).sta != -1)).collect())\n",
        "fn = fn.filter(F.year(col(\"DateNews\")) <= time_frame)\n",
        "print(\"News Data After Filter\", fn.count())\n",
        "news_sentiment_df = fn.cache()\n",
        "find_exec_time(begin=False)\n"
      ],
      "execution_count": 8,
      "outputs": [
        {
          "output_type": "stream",
          "name": "stdout",
          "text": [
            "News Data After Filter 6068\n",
            "Execution Time ..... 4271.621 msec\n"
          ]
        }
      ]
    },
    {
      "cell_type": "code",
      "metadata": {
        "id": "zNO21kU-XMLx",
        "colab": {
          "base_uri": "https://localhost:8080/"
        },
        "outputId": "d2b27a67-2851-4ae9-d111-7ee32890de49"
      },
      "source": [
        "#### STOCKS DATA MANIPULATION\n",
        "\n",
        "## P_Delta = -80% < (Prev Close - Open) < +80%\n",
        "##\n",
        "delta_stock_df = stock_df.select(\"Date\", \"Symbol\", ((col('Close') - col(\"Prev Close\"))*100/col('Close')).alias(\"P_Delta\")).\\\n",
        "                          filter((col(\"P_Delta\") <= valid_p_delta_range) & (col(\"P_Delta\") >= (-1*valid_p_delta_range)))\n",
        "print(\"Valid Range Stock Data\", delta_stock_df.count())\n",
        "\n",
        "org_delta_stock_df = delta_stock_df\n",
        "\n",
        "#A_P_Delta_<Days> = Average(P_Delta, Window(days), Symbol)\n",
        "for d in window_size:\n",
        "  w = (Window()\n",
        "      .partitionBy(col(\"Symbol\"))\n",
        "      .orderBy(F.col(\"Date\").cast('long'))\n",
        "      .rowsBetween(-d, 0))\n",
        "  delta_stock_df = delta_stock_df.withColumn('A_P_Delta_'+str(d), F.avg('P_Delta').over(w))\n",
        "\n",
        "#A_M_P_Delta = Average(P_Delta) \n",
        "delta_stock_df_avg = delta_stock_df.groupBy(\"Date\").\\\n",
        "                                    agg(F.mean(col('P_Delta')).alias(\"A_M_P_Delta\")).\\\n",
        "                                    select(col(\"Date\").alias(\"Date_avg\"), \"A_M_P_Delta\")\n",
        "\n",
        "\n",
        "##A_M_P_Delta_<Days> = Average(A_M_P_Delta, Window(days)) \n",
        "for d in window_size:\n",
        "  w = (Window()\n",
        "      .orderBy(F.col(\"Date_avg\").cast('long'))\n",
        "      .rowsBetween(-d, 0))\n",
        "  delta_stock_df_avg = delta_stock_df_avg.withColumn('A_M_P_Delta_'+str(d), F.avg('A_M_P_Delta').over(w))\n",
        "\n",
        "\n",
        "############\n",
        "########### JOINING Average \n",
        "############\n",
        "\n",
        "##P_OWN_Delta = COL(P_Delta - A_M_P_Delta)\n",
        "delta_stock_df = delta_stock_df.join(delta_stock_df_avg, delta_stock_df.Date == delta_stock_df_avg.Date_avg).drop(\"Date_avg\")\n",
        "\n",
        "delta_stock_df = delta_stock_df.withColumn(\"P_OWN_Delta\", (col(\"P_Delta\")-col(\"A_M_P_Delta\"))).drop(\"P_Delta\").drop(\"A_M_P_Delta\")\n",
        "\n",
        "\n",
        "for d in window_size:\n",
        "  delta_stock_df = delta_stock_df.withColumn(\"P_OWN_Delta_\"+str(d), (col(\"A_P_Delta_\"+str(d))-col(\"A_M_P_Delta_\"+str(d)))).\\\n",
        "                                  drop(\"A_P_Delta_\"+str(d)).drop(\"A_M_P_Delta_\"+str(d))\n",
        "  \n",
        "\n",
        "p_own_delta = delta_stock_df"
      ],
      "execution_count": 9,
      "outputs": [
        {
          "output_type": "stream",
          "name": "stdout",
          "text": [
            "Valid Range Stock Data 273230\n"
          ]
        }
      ]
    },
    {
      "cell_type": "code",
      "metadata": {
        "id": "18kGyDEWVVlJ"
      },
      "source": [
        "#### STOCKS AND NEWS Correlation\n",
        "\n",
        "####HOLIDAY ..... ????\n",
        "\n",
        "stock_news_df = org_delta_stock_df.join(news_sentiment_df, org_delta_stock_df.Date == F.date_add(news_sentiment_df.DateNews, -1))\n",
        "#stock_news_df.show(5)\n",
        "stock_news_daily = stock_news_df.withColumn(\"PNS\", F.when(col(\"News_Sentiment\").isNotNull(), (col(\"P_Delta\")*col(\"News_Sentiment\")))) \n",
        "#stock_news_daily.show(5)\n",
        "\n",
        "###Normalize based Find ABS(MAX) =====> Normalized(PNS)\n",
        "# stock_news_daily_agg = stock_news_daily.groupBy(\"Date\").agg(F.max(F.abs(\"PNS\")).alias(\"PNS_MAX\")).withColumnRenamed(\"Date\", \"Date_temp\")\n",
        "\n",
        "# stocks_news_daily = stock_news_daily.join(stock_news_daily_agg, stock_news_daily.Date == stock_news_daily_agg.Date_temp).\\\n",
        "#                         withColumn(\"PNS_Normalized\", col(\"PNS\")*100/col(\"PNS_MAX\")).\\\n",
        "#                         select(\"Date\", \"Symbol\", \"PNS_Normalized\")\n",
        "\n",
        "stock_news_daily_avg = stock_news_daily.groupBy(\"Symbol\").agg(F.mean(\"PNS\").alias(\"AVG_PNS\"))\n",
        "\n",
        "stock_news_daily_avg_max_min = stock_news_daily_avg.agg(F.max(\"AVG_PNS\").alias(\"PNS_MAX\"), F.min(\"AVG_PNS\").alias(\"PNS_MIN\"))\n",
        "stocks_news_per_stock = stock_news_daily_avg.join(stock_news_daily_avg_max_min).withColumn(\"AVG_PNS_Normalized\",  (col(\"AVG_PNS\") - col(\"PNS_MIN\"))/(col(\"PNS_MAX\") - col(\"PNS_MIN\")))\n",
        "\n",
        "#stocks_news_daily.agg(F.max(\"PNS_Normalized\"), F.min(\"PNS_Normalized\")).show()\n",
        "\n",
        "#print(stocks_news_daily.describe().toPandas().transpose()) \n",
        "#stocks_news_daily.show()                 \n",
        "###PNS ===> +20, +10, 0, -5 ===> 100% 50% 0% -25%\n",
        "###GroupBy(Stock)....Find the Avg of Normalized(PNS)\n",
        "# stocks_news_per_stock = stocks_news_daily.groupBy(\"Symbol\").agg(F.mean(\"PNS_Normalized\").alias(\"Avg_PNS_Normalized\"))\n",
        "\n",
        "#print(stocks_news_per_stock.toPandas().transpose())\n",
        "#### PLOT ..... Given the Stock\n",
        "\n",
        "stocks_news_report = stocks_news_per_stock.orderBy(\"Avg_PNS_Normalized\")\n",
        "#stocks_news_per_stock.orderBy(\"Avg_PNS_Normalized\", ascending=True).show(100)\n",
        "# stocks_news_report.take(5)\n",
        "\n",
        "# stocks_news_report.take(5)\n"
      ],
      "execution_count": 10,
      "outputs": []
    },
    {
      "cell_type": "code",
      "source": [
        "#stocks_news_daily.show()\n",
        "#stock_news_df.show()\n",
        "find_exec_time(begin=True)\n",
        "\n",
        "stock_news_df_cached = stock_news_df.cache()\n",
        "#stock_news_df_cached.show()\n",
        "stock_news_df_pd = stock_news_df_cached.toPandas()\n",
        "stock_news_report_pdf = stocks_news_report.toPandas()\n",
        "\n",
        "find_exec_time(begin=False)"
      ],
      "metadata": {
        "colab": {
          "base_uri": "https://localhost:8080/"
        },
        "id": "xtZC1eThF4aj",
        "outputId": "1fc3b28d-869e-4f0d-de0a-c5362fd04189"
      },
      "execution_count": 11,
      "outputs": [
        {
          "output_type": "stream",
          "name": "stdout",
          "text": [
            "Execution Time ..... 436761.10699999996 msec\n"
          ]
        }
      ]
    },
    {
      "cell_type": "code",
      "metadata": {
        "id": "-IjtIYCcD0da"
      },
      "source": [
        "#### STOCK PAIR Correlation\n",
        "delta_stock_df_dup = delta_stock_df.select(\"*\")\n",
        "delta_stock_df_dup = delta_stock_df_dup.withColumnRenamed(\"Date\", \"Date2\").withColumnRenamed(\"Symbol\", \"Symbol2\").withColumnRenamed(\"P_Own_Delta\", \"P_Own_Delta2\")\n",
        "for d in window_size:\n",
        "  delta_stock_df_dup = delta_stock_df_dup.withColumnRenamed(\"P_OWN_Delta_\"+str(d), \"P_OWN_Delta2_\"+str(d))\n",
        "\n",
        "\n",
        "paired_df = delta_stock_df.join(delta_stock_df_dup, (delta_stock_df.Date == delta_stock_df_dup.Date2) & (delta_stock_df.Symbol < delta_stock_df_dup.Symbol2)).drop(\"Date2\")\n",
        "\n",
        "#paired_df.show()\n",
        "\n",
        "\n",
        "corelation_df = paired_df.select(\"*\", (col(\"P_Own_Delta\")*col(\"P_Own_Delta2\")).alias(\"corelation\"))\n",
        "\n",
        "for d in window_size:\n",
        "  corelation_df = corelation_df.withColumn(\"corelation_\"+str(d), (col(\"P_Own_Delta_\"+str(d))*col(\"P_Own_Delta2_\"+str(d))))\n",
        "\n",
        "#corelation_df.show()\n",
        "\n",
        "avg_corelation_df = corelation_df.groupBy(\"Symbol\", \"Symbol2\").agg(F.avg(\"corelation\"))\n",
        "\n",
        "for d in window_size: \n",
        "  temp_df = corelation_df.groupBy(\"Symbol\", \"Symbol2\").agg(F.avg(\"corelation_\"+str(d))).withColumnRenamed(\"Symbol\", \"Symbol_temp\").withColumnRenamed(\"Symbol2\", \"Symbol2_temp\")\n",
        "  avg_corelation_df = temp_df.join(avg_corelation_df, (temp_df.Symbol_temp == avg_corelation_df.Symbol) & (temp_df.Symbol2_temp == avg_corelation_df.Symbol2)).drop(\"Symbol2_temp\").drop(\"Symbol_temp\")"
      ],
      "execution_count": 12,
      "outputs": []
    },
    {
      "cell_type": "code",
      "metadata": {
        "id": "e8Dkxdqkvjax",
        "colab": {
          "base_uri": "https://localhost:8080/"
        },
        "outputId": "149b63a0-4d8c-4f2f-802a-936fb596782a"
      },
      "source": [
        "find_exec_time(begin=True)\n",
        "correlation_pd = avg_corelation_df.toPandas()\n",
        "find_exec_time(begin=False)\n",
        "\n",
        "avg_corelation_df.show()"
      ],
      "execution_count": 13,
      "outputs": [
        {
          "output_type": "stream",
          "name": "stdout",
          "text": [
            "Execution Time ..... 172492.18099999998 msec\n",
            "+--------------------+--------------------+--------------------+--------------------+----------+----------+--------------------+\n",
            "|  avg(corelation_30)|  avg(corelation_15)|   avg(corelation_7)|   avg(corelation_3)|    Symbol|   Symbol2|     avg(corelation)|\n",
            "+--------------------+--------------------+--------------------+--------------------+----------+----------+--------------------+\n",
            "| 0.04464627396252269| 0.03321370656992626|7.334323209978804E-4|6.296507178737431E-4|BAJAUTOFIN|   UNIPHOS| 0.10468849620994135|\n",
            "| 0.05802827247064579| 0.06637187887918763| 0.09619326892862656|  0.1281252107150025|     CIPLA| HEROHONDA| 0.24151595673712972|\n",
            "|-0.00320178857335...|0.004388690666042488|-7.19163604990770...|-0.01534338442112...|      GAIL|      HDFC|-0.23555415675005353|\n",
            "|-0.00220302730608...|0.007223695822134291|-0.00221176624832...|-0.05683597470908535|      GAIL| ICICIBANK|-0.39163725992339704|\n",
            "|-0.00991561518419...|-0.00928982391224...|-0.02121382241278...|-0.07348571926438881|   HCLTECH|ULTRACEMCO|-0.28287381373664217|\n",
            "|  0.0776660060023927| 0.08883628986475675| 0.10229599043193369|  0.1352987408832721|  HINDALC0|  RELIANCE| 0.12812604623297824|\n",
            "|-0.09035394708603818|-0.00840841395684...|-0.00277286516470...|-0.13666018357452459|HINDUNILVR|MUNDRAPORT|-0.15125424797346562|\n",
            "|-0.06605489607702848|-0.06398819360485994|-0.14564160302727758| -0.1826052592268844|       ITC|    JSWSTL|-0.44762747057782953|\n",
            "| 0.15518259943768364| 0.25329351193958144| 0.41121465424937986|  0.7201155303200202|  JSWSTEEL| TATASTEEL|   1.977128490468263|\n",
            "| 0.07170569498408878| 0.09731625125147675| 0.14774893071802908|  0.1040467141644469|  KOTAKMAH| SUNPHARMA| -0.3933443266433421|\n",
            "|0.013611129425261827|0.024617072335433837| 0.02531008710293744| 0.03943243685126584|    MARUTI|ULTRACEMCO|0.047087202560578335|\n",
            "| -0.0945193164704977|-0.02112935282061...|0.037522595248346405|-0.14065550918866335|MUNDRAPORT|TATAMOTORS| -0.7317668894846105|\n",
            "|0.001000609076336...|-0.00129020341469...| 0.01602395009542035|0.006580151517557998|      SBIN|ULTRACEMCO|-0.14720626915633286|\n",
            "|0.011301401641700671| 0.01226256176080864|-0.03016373580891143| -0.1303213392012017|ASIANPAINT|   UTIBANK| -0.4401954281067895|\n",
            "|-0.04807035085959841|-0.06341920596473268|-0.09503769061607525|-0.19614136733927842|  AXISBANK|HINDUNILVR| -0.6493492680295885|\n",
            "|0.016269262246350558| 0.01488698184321512| 0.05959155146021651| 0.14357280584957346|BAJFINANCE|      ZEEL|   0.142265853376921|\n",
            "|0.009405139064459283|0.046045186749774786|0.062483138956496584|0.039031674158692325| COALINDIA|      ZEEL| 0.18105385444450772|\n",
            "|-0.02252294859594...| -0.0408972764186981|-0.04693193554681...|-0.01769178099770832|  HINDALCO|     TITAN|-0.13435602581630482|\n",
            "|-0.00749577059539...|-0.01852231040241905|-0.05423634384016...|-0.11770962647798122| ICICIBANK|       ITC| -0.4214692887821081|\n",
            "|-0.01023347225053651|-0.01663551588716...|-0.01373657099521185| -0.0245065682165255|      INFY|  SHREECEM|-0.01976719440483924|\n",
            "+--------------------+--------------------+--------------------+--------------------+----------+----------+--------------------+\n",
            "only showing top 20 rows\n",
            "\n"
          ]
        }
      ]
    },
    {
      "cell_type": "markdown",
      "source": [
        "# Results"
      ],
      "metadata": {
        "id": "wl9LJhdJwgFc"
      }
    },
    {
      "cell_type": "code",
      "metadata": {
        "id": "TYQ_dkBfwYvh",
        "colab": {
          "base_uri": "https://localhost:8080/",
          "height": 1000
        },
        "outputId": "43a5663c-ceb8-42e0-bc45-fc81f5a51c4a"
      },
      "source": [
        "correlation_pd.sort_values([\"avg(corelation)\"])\n",
        "sym = input('Symbol ')\n",
        "filtered = correlation_pd[correlation_pd[\"Symbol\"] == sym]\n",
        "output_df = filtered.sort_values([\"avg(corelation)\"], ascending=True)[\"Symbol2\"]#.tolist()\n",
        "#print(filtered.sort_values([\"avg(corelation)\"], ascending=True))\n",
        "\n",
        "print(\"Bottom 5 Correlated Stocks\")\n",
        "print(output_df.tolist()[0:5])\n",
        "\n",
        "output_list = output_df.tolist()[-5:]\n",
        "print(\"Top 5 Correlated Stocks\")\n",
        "print(output_df.tolist()[-5:][::-1])\n",
        "\n",
        "print(\"Stock to News Sentiment Normalized Correlation Metric\", stock_news_report_pdf[stock_news_report_pdf['Symbol']== sym]['AVG_PNS_Normalized'].tolist()[0])\n",
        "# print(\"Stock to News Sentiment Average Correlation\", stock_news_report_pdf[stock_news_report_pdf['Symbol']== sym]['AVG_PNS'].tolist()[0])\n",
        "\n",
        "myfig,myax = plt.subplots(1,1, figsize=(20, 10))\n",
        "\n",
        "legend = [\"Window Size(days) 1\"]\n",
        "myax.scatter(filtered[\"Symbol2\"], filtered[\"avg(corelation)\"])\n",
        "myax.set_xticklabels(filtered[\"Symbol2\"], rotation=90)\n",
        "for d in window_size:\n",
        "  myax.scatter(filtered[\"Symbol2\"], filtered[\"avg(corelation_\"+str(d)+\")\"])\n",
        "  legend.append(\"Window Size(days) \"+str(d))\n",
        "myax.set_ylabel(\"Metric of Correlation\")\n",
        "myax.legend(legend)\n",
        "myax.grid()\n",
        "\n",
        "myfig,myax = plt.subplots(1,1, figsize=(20, 20))\n",
        "output_df = stock_news_df_pd[stock_news_df_pd['Symbol'] == sym]\n",
        "myax.scatter(output_df['P_Delta'], output_df[\"News_Sentiment\"])\n",
        "myax.set_xlabel(\"Normalized Stock Market Gain\")\n",
        "myax.set_ylabel(\"News Sentiment\")\n",
        "myax.legend([\"News Sentiment\"])\n",
        "myax.grid()\n",
        "\n",
        "fig = plt.gcf()\n",
        "#plt.grid()\n",
        "\n",
        "fig.set_size_inches(18.5, 10.5)\n"
      ],
      "execution_count": 26,
      "outputs": [
        {
          "output_type": "stream",
          "name": "stdout",
          "text": [
            "Symbol GAIL\n",
            "Bottom 5 Correlated Stocks\n",
            "['ZEETELE', 'KOTAKMAH', 'MUNDRAPORT', 'SESAGOA', 'ICICIBANK']\n",
            "Top 5 Correlated Stocks\n",
            "['ONGC', 'IOC', 'UTIBANK', 'NTPC', 'RELIANCE']\n",
            "Stock to News Sentiment Normalized Correlation Metric 0.47364994146034584\n"
          ]
        },
        {
          "output_type": "display_data",
          "data": {
            "image/png": "[encoded data removed]",
            "text/plain": [
              "<Figure size 1440x720 with 1 Axes>"
            ]
          },
          "metadata": {
            "needs_background": "light"
          }
        },
        {
          "output_type": "display_data",
          "data": {
            "image/png": "[encoded data removed]",
            "text/plain": [
              "<Figure size 1332x756 with 1 Axes>"
            ]
          },
          "metadata": {
            "needs_background": "light"
          }
        }
      ]
    }
  ]
}